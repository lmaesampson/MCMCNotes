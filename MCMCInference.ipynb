{
 "cells": [
  {
   "cell_type": "code",
   "execution_count": 5,
   "metadata": {
    "collapsed": false
   },
   "outputs": [],
   "source": [
    "import numpy as np\n",
    "import scipy as sp\n",
    "\n",
    "import matplotlib.pyplot as plt\n",
    "from matplotlib import rc\n",
    "rc('font',**{'family':'sans-serif','sans-serif':['Helvetica']})\n",
    "rc('text', usetex=True) #Want to be able to use tex in the plot labels\n",
    "%matplotlib inline\n",
    "import seaborn\n",
    "\n",
    "seaborn.set_style('ticks')\n",
    "seaborn.set_color_codes()"
   ]
  },
  {
   "cell_type": "markdown",
   "metadata": {},
   "source": [
    "### Parameter Estimation with MCMC\n",
    "\n",
    "In the last notebook, we looked at how to generate samples from a particular distribution, given knowledge of the distribution. This is not what I, and many others, typically use MCMC for - rather, we look to use observed data to learn about the parameters of an *unknown* distribution.\n",
    "\n",
    "In this example, the distribution is, in fact, known - we will use the same student t distribution we have been working with. First, we will generate our 'data,' which will be a set of samples from this known distribution.\n"
   ]
  },
  {
   "cell_type": "code",
   "execution_count": 14,
   "metadata": {
    "collapsed": true
   },
   "outputs": [],
   "source": [
    "def dist(x):                  #x is read in to this function\n",
    "    nu = 3.                   #the parameters of the distribution are fixed\n",
    "    sigma = 1.\n",
    "    mu = 2.\n",
    "    \n",
    "    norm = np.sqrt(nu*np.pi*sigma*sigma)\n",
    "    ratio = sp.special.gamma((nu+1.)/2.)/sp.special.gamma(nu/2.)\n",
    "    \n",
    "    px = ratio*(1.+(1./nu)*((x-mu)**2)/sigma)**(-(nu+1.)/2.)/norm\n",
    "    \n",
    "    return px\n",
    "\n",
    "def tdist(x,mu,nu,sigma):                  #x is read in to this function \n",
    "    norm = np.sqrt(nu*np.pi*sigma*sigma)\n",
    "    ratio = sp.special.gamma((nu+1.)/2.)/sp.special.gamma(nu/2.)\n",
    "    \n",
    "    px = ratio*(1.+(1./nu)*((x-mu)**2)/sigma)**(-(nu+1.)/2.)/norm\n",
    "    \n",
    "    return px"
   ]
  },
  {
   "cell_type": "code",
   "execution_count": 7,
   "metadata": {
    "collapsed": false
   },
   "outputs": [],
   "source": [
    "def prop(x,alpha):          #needs current location (x), and variance of Gaussian (alpha)\n",
    "    return np.random.normal(loc=x,scale=alpha)\n",
    "    "
   ]
  },
  {
   "cell_type": "code",
   "execution_count": 11,
   "metadata": {
    "collapsed": false
   },
   "outputs": [],
   "source": [
    "Nstep = 2000                #number of iterations for which to run the chain\n",
    "xstart = 2.                 #gotta start somewhere\n",
    "alpha = 0.87                #variance for prop. dist.\n",
    "\n",
    "data = []              #empty list to store the samples\n",
    "Nacc = 0.                   #counter for accepted jumps\n",
    "x = xstart\n",
    "for i in range(Nstep):      #for loop is the actual sampling process\n",
    "    lx = dist(x)            #likelihood at x \n",
    "    y = prop(x,alpha)       #propose a new value - y\n",
    "    ly = dist(y)            #likelihood at y\n",
    "    r = np.random.rand()\n",
    "    if ly/lx > r:           #compare the Hastings ratio (in this case just the likelihood ratio) to random number r.\n",
    "                            #Note that we haven't explicitly calcualted a prior value - this is fine if the prior is\n",
    "                            #uniform in all parameters. It will just cancel out of the Hastings ratio in this case.\n",
    "        x = y               #if H>r, accept the jump.\n",
    "        Nacc += 1.          #iterate the acceptance counter\n",
    "    data.append(x)     #whether the jump was accepted or not, the current value of x is a new sample.\n"
   ]
  },
  {
   "cell_type": "code",
   "execution_count": 13,
   "metadata": {
    "collapsed": false
   },
   "outputs": [
    {
     "data": {
      "text/plain": [
       "[<matplotlib.lines.Line2D at 0x113328650>]"
      ]
     },
     "execution_count": 13,
     "metadata": {},
     "output_type": "execute_result"
    },
    {
     "data": {
      "image/png": "[encoded data removed]",
      "text/plain": [
       "<Figure size 432x288 with 1 Axes>"
      ]
     },
     "metadata": {},
     "output_type": "display_data"
    }
   ],
   "source": [
    "plt.plot(data)"
   ]
  },
  {
   "cell_type": "markdown",
   "metadata": {},
   "source": [
    "Now we're turning the problem around - $\\{x\\}$ is now $\\{ d \\}$, the data, and the model parameters are $\\mu$, $\\nu$, and $\\sigma$. We now need to write a new likelihood\n",
    "\\begin{equation}\n",
    "p(d|\\mu,\\nu,\\sigma) = \\prod_i \\frac{\\Gamma((\\nu +1)/2}{\\sqrt{\\nu \\pi \\sigma^2}\\Gamma(\\nu/2)} \\left(1 +\\frac{1}{\\nu} \\left( \\frac{d_i-\\mu}{\\sigma} \\right)^2 \\right),\n",
    "\\end{equation}\n",
    "which is just a product over the observations of the likelihood of observing each point given the parameters.\n",
    "\n",
    "So, as before, we will need to define a likelihood, prior, and proposal distribution. We will use a simple prior distribution that is uniform between -10 and 10 for all three of the parameters.\n"
   ]
  },
  {
   "cell_type": "code",
   "execution_count": 28,
   "metadata": {
    "collapsed": true
   },
   "outputs": [],
   "source": [
    "def like(d,x):\n",
    "    mu = x[0]\n",
    "    sigma = x[1]\n",
    "    nu = x[2]\n",
    "    \n",
    "    likevals = tdist(d,mu,nu,sigma)\n",
    "    loglike = np.log(likevals)        #For numerical stability, we will work with the *log* likelihood\n",
    "    \n",
    "    return np.sum(loglike)  "
   ]
  },
  {
   "cell_type": "code",
   "execution_count": 30,
   "metadata": {
    "collapsed": true
   },
   "outputs": [],
   "source": [
    "def prior(x):\n",
    "    mu = x[0]\n",
    "    sigma = x[1]\n",
    "    nu = x[2]\n",
    "    \n",
    "    if mu> 10. or mu<-10.:\n",
    "        return -np.inf\n",
    "    if sigma>10. or sigma<-10:\n",
    "        return -np.inf\n",
    "    if nu>10. or nu<-10.:\n",
    "        return -np.inf\n",
    "    \n",
    "    return 0."
   ]
  },
  {
   "cell_type": "code",
   "execution_count": null,
   "metadata": {
    "collapsed": true
   },
   "outputs": [],
   "source": []
  }
 ],
 "metadata": {
  "kernelspec": {
   "display_name": "Python 2",
   "language": "python",
   "name": "python2"
  },
  "language_info": {
   "codemirror_mode": {
    "name": "ipython",
    "version": 2
   },
   "file_extension": ".py",
   "mimetype": "text/x-python",
   "name": "python",
   "nbconvert_exporter": "python",
   "pygments_lexer": "ipython2",
   "version": "2.7.12"
  }
 },
 "nbformat": 4,
 "nbformat_minor": 2
}
