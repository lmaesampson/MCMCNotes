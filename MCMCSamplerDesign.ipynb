{
 "cells": [
  {
   "cell_type": "code",
   "execution_count": 267,
   "metadata": {
    "collapsed": false
   },
   "outputs": [],
   "source": [
    "import numpy as np\n",
    "import scipy as sp\n",
    "\n",
    "import matplotlib.pyplot as plt\n",
    "from matplotlib import rc\n",
    "rc('font',**{'family':'sans-serif','sans-serif':['Helvetica']})\n",
    "rc('text', usetex=True) #Want to be able to use tex in the plot labels\n",
    "%matplotlib inline\n",
    "import seaborn\n",
    "\n",
    "seaborn.set_style('ticks')\n",
    "seaborn.set_color_codes()"
   ]
  },
  {
   "cell_type": "markdown",
   "metadata": {},
   "source": [
    "### What is a Markov chain Monte Carlo sampler?\n",
    "\n",
    "To understand what an MCMC is, and what it's for, we first have to talk about Bayesian probability theory, which really boils down to one simple equation: Bayes' Theorem (CITE the rev):\n",
    "\n",
    "\\begin{equation}\n",
    "p(A|B) = \\frac{p(B|A)p(A)}{p(B)}\n",
    "\\end{equation}\n",
    "\n",
    "This equation states that the probability of event $A$ given event $B$ is equal to the probability of $B$ given $A$ (the **likelihood** of B), multiplied by the probability of $A$ without observing $B$ (the **prior** on $A$), divided by the probability of $B$ without considering $A$ (the **evidence** or **fully marginalized likelihood (FML)**).  \n",
    "\n",
    "Now, instead of two events, think of $A$ as a model and $B$ as a piece of data. This is now the equation for the probability that $A$ is the correct model, given observation $B$. We'll switch to $\\mathcal{M}$ and $d$ for clarity. Finally, assume that $\\mathcal{M}$ is a model that is parameterized by the parameter, $\\theta$. What we are often looking for in this case is the *posterior distribution* for $\\theta$ - this is the inferred probability distribution on the parameter after we've made an observation. So\n",
    "\\begin{equation}\n",
    "p(\\theta|d,\\mathcal{M}) = \\frac{p(d|\\mathcal{M},\\theta) p(\\theta)}{p(d,\\mathcal{M})}.\n",
    "\\end{equation}\n",
    "The term on the denominator is, again, the evidence, and is defined via\n",
    "\\begin{equation}\n",
    "p(d,\\mathcal{M}) = \\int p(d|\\mathcal{M},\\theta) p(\\theta) d\\theta\n",
    "\\end{equation}\n",
    "The integration over $\\theta$ is called *marginalization*. In the case of parameter estimation, this factor serves as a normalizing constant - because the posterior distribution is a probability density, it must integrate to one. \n",
    "\n",
    "This integral is often super nasty! In most interesting data analysis problems, it is not tractible analytically, and is either quite high-dimensional, multi-modal, steeply peaked, or all of these things. This means that standard numerical integration techniques are not sufficient. This is where MCMC's come in! \n",
    "\n",
    "In the context of Bayesian inference, an MCMC is a way to avoid doing an integral, and it is magic. \n",
    "\n",
    "**HERE IS WHERE YOU FILL IN A DESCRIPTION OF MCMC**\n",
    "\n",
    "(There are lots of great resources for learning about Bayes' theorem (LIST), and I don't aim to be one of them. What I want to do in this Notebook is give a basic understanding of how MCMC's are used in Bayesian analysis.)"
   ]
  },
  {
   "cell_type": "markdown",
   "metadata": {},
   "source": [
    "### Generating Samples from a Distribution\n",
    "\n",
    "As discussed above, MCMC is used in Bayesian inference to avoid having to calculate the fully marginalized likelihood, which is aptly initialized as FML. But what we're *really* doing is generating samples from the posterior distribution. And this is what MCMC is really for - generating samples from a given distribution.\n",
    "\n",
    "This may sound odd, but think about it for a moment - if I can write down a probability distribution, say the shifted Student-t\n",
    "\\begin{equation}\n",
    "p(x|\\nu,\\sigma,\\mu) = \\frac{\\Gamma((\\nu +1)/2}{\\sqrt{\\nu \\pi \\sigma^2}\\Gamma(\\nu/2)} \\left(1 +\\frac{1}{\\nu} \\left( \\frac{x-\\mu}{\\sigma} \\right)^2 \\right),\n",
    "\\end{equation}\n",
    "How on Earth do I generate samples from this distribution? That is, how do I write down a set of numbers that are drawn with exactly this probability? (If this is still confusing: if I have a large number of samples, I want the histogram of these samples to look like the probability distribution.)\n",
    "\n",
    "For our first example, we will use MCMC to do exactly that. We will generate samples from the above function, with $\\nu = 3$, $\\mu=1$, and $\\sigma = 1$.\n",
    "\n",
    "**First, we define the likelihood:**"
   ]
  },
  {
   "cell_type": "code",
   "execution_count": 268,
   "metadata": {
    "collapsed": true
   },
   "outputs": [],
   "source": [
    "def like(x):                  #x is read in to this function\n",
    "    nu = 3.                   #the parameters of the distribution are fixed\n",
    "    sigma = 1.\n",
    "    mu = 2.\n",
    "    \n",
    "    norm = np.sqrt(nu*np.pi*sigma*sigma)\n",
    "    ratio = sp.special.gamma((nu+1.)/2.)/sp.special.gamma(nu/2.)\n",
    "    \n",
    "    px = ratio*(1.+(1./nu)*((x-mu)**2)/sigma)**(-(nu+1.)/2.)/norm\n",
    "    \n",
    "    return px"
   ]
  },
  {
   "cell_type": "markdown",
   "metadata": {},
   "source": [
    "**What about the proposal distribution?**\n",
    "\n",
    "If we have infinite time to wait, any proposal distribution will eventually produce samples distributed in the way we want (with a couple of caveats). But we typically don't have the age of the universe to wait, and so one of the key points of the black art of MCMC design is implementing proposal distributions that lead to faster convergence.\n",
    "\n",
    "To explore what we mean by 'fast convergence,' and some of the choices we can make in proposal distributions, we will use a Gaussian proposal distribution with variance $\\alpha$:\n",
    "\\begin{equation}\n",
    "q(y|x) = \\frac{1}{\\sqrt{2\\pi\\alpha^2}} e^{-(y-x)^2/2\\alpha^2}.\n",
    "\\end{equation}\n",
    "This distribution is symmetric upon exchange of $x$ and $y$, and so the calculation of the Metropolis-Hastings ratio is quite simple.\n",
    "\n",
    "We are going to run an MCMC for 1000 iterations with different values of $\\alpha$, and then look at the chains, the distribution of the samples, and the acceptance rates to learn a little about proposal design."
   ]
  },
  {
   "cell_type": "code",
   "execution_count": 269,
   "metadata": {
    "collapsed": false
   },
   "outputs": [],
   "source": [
    "def prop(x,alpha):          #needs current location (x), and variance of Gaussian (alpha)\n",
    "    return np.random.normal(loc=x,scale=alpha)\n",
    "    "
   ]
  },
  {
   "cell_type": "code",
   "execution_count": 270,
   "metadata": {
    "collapsed": true
   },
   "outputs": [],
   "source": [
    "Nstep = 2000                #number of iterations for which to run the chain\n",
    "xstart = 0.                 #gotta start somewhere\n",
    "alpha = 10.0                #variance for prop. dist.\n",
    "\n",
    "samples10 = []              #empty list to store the samples\n",
    "Nacc = 0.                   #counter for accepted jumps\n",
    "x = xstart\n",
    "for i in range(Nstep):      #for loop is the actual sampling process\n",
    "    lx = like(x)            #likelihood at x \n",
    "    y = prop(x,alpha)       #propose a new value - y\n",
    "    ly = like(y)            #likelihood at y\n",
    "    r = np.random.rand()\n",
    "    if ly/lx > r:           #compare the Hastings ratio (in this case just the likelihood ratio) to random number r.\n",
    "        x = y               #if H>r, accept the jump.\n",
    "        Nacc += 1.          #iterate the acceptance counter\n",
    "    samples10.append(x)     #whether the jump was accepted or not, the current value of x is a new sample.\n",
    "AR10 = Nacc/Nstep           #calculate the acceptance rate."
   ]
  },
  {
   "cell_type": "code",
   "execution_count": 271,
   "metadata": {
    "collapsed": false
   },
   "outputs": [],
   "source": [
    "#Rinse and repeat for three other values of alpha: 1, 0.1, and 0.01\n",
    "alpha = 1.0    \n",
    "samples1 = []\n",
    "Nacc = 0.\n",
    "x = xstart\n",
    "for i in range(Nstep):\n",
    "    lx = like(x)\n",
    "    y = prop(x,alpha)\n",
    "    ly = like(y)\n",
    "    r = np.random.rand()\n",
    "    if ly/lx > r:\n",
    "        x = y\n",
    "        Nacc += 1.\n",
    "    samples1.append(x)\n",
    "AR1 = Nacc/Nstep\n",
    " \n",
    "\n",
    "alpha = .1    \n",
    "samples01 = []\n",
    "Nacc = 0.\n",
    "x = xstart\n",
    "for i in range(Nstep):\n",
    "    lx = like(x)\n",
    "    y = prop(x,alpha)\n",
    "    ly = like(y)\n",
    "    r = np.random.rand()\n",
    "    if ly/lx > r:\n",
    "        x = y\n",
    "        Nacc += 1.\n",
    "    samples01.append(x)\n",
    "AR01 = Nacc/Nstep\n",
    "    \n",
    "\n",
    "alpha = .01    \n",
    "samples001 = []\n",
    "Nacc = 0.\n",
    "x = xstart\n",
    "for i in range(Nstep):\n",
    "    lx = like(x)\n",
    "    y = prop(x,alpha)\n",
    "    ly = like(y)\n",
    "    r = np.random.rand()\n",
    "    if ly/lx > r:\n",
    "        x = y\n",
    "        Nacc += 1.\n",
    "    samples001.append(x)\n",
    "AR001 = Nacc/Nstep\n",
    "\n",
    "samples10 = np.array(samples10)\n",
    "samples1 = np.array(samples1)\n",
    "samples01 = np.array(samples01)\n",
    "samples001 = np.array(samples001)"
   ]
  },
  {
   "cell_type": "markdown",
   "metadata": {},
   "source": [
    "First, let's look at the **acceptance ratios**. \n",
    "\n",
    "Obviously, you want to be able to generate a lot of samples from the desired distribution without wasting too many iterations on jump proposals that are rejected. So a high acceptance ratio seems like it would be good."
   ]
  },
  {
   "cell_type": "code",
   "execution_count": 272,
   "metadata": {
    "collapsed": false
   },
   "outputs": [
    {
     "name": "stdout",
     "output_type": "stream",
     "text": [
      "alpha = 10 AR = 0.158\n",
      "alpha = 1 AR = 0.732\n",
      "alpha = 0.1 AR = 0.975\n",
      "alpha = 0.01 AR = 0.9955\n"
     ]
    }
   ],
   "source": [
    "print 'alpha = 10 AR =', AR10\n",
    "print 'alpha = 1 AR =',AR1\n",
    "print 'alpha = 0.1 AR =',AR01\n",
    "print 'alpha = 0.01 AR =', AR001"
   ]
  },
  {
   "cell_type": "markdown",
   "metadata": {},
   "source": [
    "And we get some really high acceptance ratios! From this alone, we may think that the proposal distribution with the smallest alpha is the best - almost every single jump proposal was accepted!\n",
    "\n",
    "Let's look at the chains to dig a little deeper."
   ]
  },
  {
   "cell_type": "markdown",
   "metadata": {},
   "source": [
    "**Plot the chains:**"
   ]
  },
  {
   "cell_type": "code",
   "execution_count": 273,
   "metadata": {
    "collapsed": false
   },
   "outputs": [
    {
     "data": {
      "text/plain": [
       "<matplotlib.legend.Legend at 0x11fc83350>"
      ]
     },
     "execution_count": 273,
     "metadata": {},
     "output_type": "execute_result"
    },
    {
     "data": {
      "image/png": "[encoded data removed]",
      "text/plain": [
       "<matplotlib.figure.Figure at 0x11fadb850>"
      ]
     },
     "metadata": {},
     "output_type": "display_data"
    }
   ],
   "source": [
    "plt.plot(samples10,marker='.',linestyle='None',label =r'$\\alpha=10$')\n",
    "plt.plot(samples1,marker='.',linestyle='None',label =r'$\\alpha=1$')\n",
    "plt.plot(samples01,marker='.',linestyle='None',label =r'$\\alpha=0.1$')\n",
    "plt.plot(samples001,marker='.',linestyle='None',label =r'$\\alpha=0.01$')\n",
    "plt.legend()"
   ]
  },
  {
   "cell_type": "markdown",
   "metadata": {},
   "source": [
    "It's pretty clear from thie graph that the proposal distributions with very small $\\alpha$ are not exploring very much of the space. We can also see the effect of that very low acceptance ratio for $\\alpha = 10$ - there are lots of 'clumps' of points in the blue chain. From this graph, it looks like $\\alpha=1.0$ is doing the best job exploring the space, even though its acceptance ratio is not the highest.\n",
    "\n",
    "Let's look now at the histogram for each of our samples, compared to the target distribution"
   ]
  },
  {
   "cell_type": "code",
   "execution_count": 274,
   "metadata": {
    "collapsed": true
   },
   "outputs": [],
   "source": [
    "xplot = np.linspace(-10,10,5000)      #Need an x axis for plotting\n",
    "target = like(xplot)                   #target distribution"
   ]
  },
  {
   "cell_type": "markdown",
   "metadata": {},
   "source": [
    "First, we look at $\\alpha = 10.$ As expected, we see a lot of sharp peaks in the distribution, which reflects the 'clumpiness' of the chain. We have, though, at least explored the bulk of the x range in which the target distribution has non-negligible support"
   ]
  },
  {
   "cell_type": "code",
   "execution_count": 275,
   "metadata": {
    "collapsed": false
   },
   "outputs": [
    {
     "data": {
      "text/plain": [
       "[<matplotlib.lines.Line2D at 0x11fc4ad10>]"
      ]
     },
     "execution_count": 275,
     "metadata": {},
     "output_type": "execute_result"
    },
    {
     "data": {
      "image/png": "[encoded data removed]",
      "text/plain": [
       "<matplotlib.figure.Figure at 0x11fc4a850>"
      ]
     },
     "metadata": {},
     "output_type": "display_data"
    }
   ],
   "source": [
    "edges = np.linspace(-5,5,50)\n",
    "a,b,c = plt.hist(samples10,bins=edges,normed=True)\n",
    "plt.plot(xplot,target,lw=2,color='r')"
   ]
  },
  {
   "cell_type": "markdown",
   "metadata": {},
   "source": [
    "In the next two graphs, we look ath the distributions for $\\alpha = 0.1$ and $\\alpha = 0.01$. Again, consistent with what we can see in the chains, it is clear that neither of these distributions have come anywhere close to exploring the full space. These are not good representations of the target distribution."
   ]
  },
  {
   "cell_type": "code",
   "execution_count": 276,
   "metadata": {
    "collapsed": false
   },
   "outputs": [
    {
     "data": {
      "text/plain": [
       "[<matplotlib.lines.Line2D at 0x11d90ef50>]"
      ]
     },
     "execution_count": 276,
     "metadata": {},
     "output_type": "execute_result"
    },
    {
     "data": {
      "image/png": "[encoded data removed]",
      "text/plain": [
       "<matplotlib.figure.Figure at 0x11d90ea90>"
      ]
     },
     "metadata": {},
     "output_type": "display_data"
    }
   ],
   "source": [
    "edges = np.linspace(-5,5,50)\n",
    "a,b,c = plt.hist(samples01,bins=edges,normed=True)\n",
    "plt.plot(xplot,target,lw=2,color='r')"
   ]
  },
  {
   "cell_type": "code",
   "execution_count": 277,
   "metadata": {
    "collapsed": false
   },
   "outputs": [
    {
     "data": {
      "text/plain": [
       "[<matplotlib.lines.Line2D at 0x12015ee50>]"
      ]
     },
     "execution_count": 277,
     "metadata": {},
     "output_type": "execute_result"
    },
    {
     "data": {
      "image/png": "[encoded data removed]",
      "text/plain": [
       "<matplotlib.figure.Figure at 0x12015ec90>"
      ]
     },
     "metadata": {},
     "output_type": "display_data"
    }
   ],
   "source": [
    "edges = np.linspace(-5,5,50)\n",
    "a,b,c = plt.hist(samples001,bins=edges,normed=True)\n",
    "plt.plot(xplot,target,lw=2,color='r')"
   ]
  },
  {
   "cell_type": "markdown",
   "metadata": {},
   "source": [
    "Finally, we have our goldilocks distribution: $\\alpha = 1.0$. While it has not perfectly recovered the target distribution by any means, it is a much better approximation than the other three."
   ]
  },
  {
   "cell_type": "code",
   "execution_count": 278,
   "metadata": {
    "collapsed": false
   },
   "outputs": [
    {
     "data": {
      "text/plain": [
       "[<matplotlib.lines.Line2D at 0x11fc53450>]"
      ]
     },
     "execution_count": 278,
     "metadata": {},
     "output_type": "execute_result"
    },
    {
     "data": {
      "image/png": "[encoded data removed]",
      "text/plain": [
       "<matplotlib.figure.Figure at 0x11ff3ead0>"
      ]
     },
     "metadata": {},
     "output_type": "display_data"
    }
   ],
   "source": [
    "edges = np.linspace(-5,5,50)\n",
    "a,b,c = plt.hist(samples1,bins=edges,normed=True)\n",
    "plt.plot(xplot,target,lw=2,color='r')"
   ]
  },
  {
   "cell_type": "markdown",
   "metadata": {},
   "source": [
    "**Note: this does not mean that there is anything wrong with our proposal distribution or sampler!** \n",
    "\n",
    "To see this, we now run the $\\alpha = 0.1$ and the $\\alpha = 10$ samplers for $1e6$ iterations."
   ]
  },
  {
   "cell_type": "code",
   "execution_count": 279,
   "metadata": {
    "collapsed": false
   },
   "outputs": [],
   "source": [
    "Nstep = 1e6\n",
    "Nstep = int(Nstep)\n",
    "\n",
    "alpha = 10.\n",
    "samples10long = []              \n",
    "x = xstart\n",
    "for i in range(Nstep):     \n",
    "    lx = like(x)            \n",
    "    y = prop(x,alpha)       \n",
    "    ly = like(y)            \n",
    "    r = np.random.rand()\n",
    "    if ly/lx > r:           \n",
    "        x = y               \n",
    "    samples10long.append(x)     \n",
    "\n",
    "\n",
    "alpha = .1    \n",
    "samples01long = []\n",
    "x = xstart\n",
    "for i in range(Nstep):\n",
    "    lx = like(x)\n",
    "    y = prop(x,alpha)\n",
    "    ly = like(y)\n",
    "    r = np.random.rand()\n",
    "    if ly/lx > r:\n",
    "        x = y\n",
    "    samples01long.append(x)\n"
   ]
  },
  {
   "cell_type": "markdown",
   "metadata": {},
   "source": [
    "$\\alpha = 0.1$ first, then $\\alpha = 10.$:"
   ]
  },
  {
   "cell_type": "code",
   "execution_count": 280,
   "metadata": {
    "collapsed": false
   },
   "outputs": [
    {
     "data": {
      "text/plain": [
       "[<matplotlib.lines.Line2D at 0x1203ef750>]"
      ]
     },
     "execution_count": 280,
     "metadata": {},
     "output_type": "execute_result"
    },
    {
     "data": {
      "image/png": "[encoded data removed]",
      "text/plain": [
       "<matplotlib.figure.Figure at 0x1203e7490>"
      ]
     },
     "metadata": {},
     "output_type": "display_data"
    }
   ],
   "source": [
    "edges = np.linspace(-10,10,50)\n",
    "a,b,c = plt.hist(samples01long,bins=edges,normed=True)\n",
    "plt.plot(xplot,target,lw=2,color='r')"
   ]
  },
  {
   "cell_type": "code",
   "execution_count": 281,
   "metadata": {
    "collapsed": false
   },
   "outputs": [
    {
     "data": {
      "text/plain": [
       "[<matplotlib.lines.Line2D at 0x120806f10>]"
      ]
     },
     "execution_count": 281,
     "metadata": {},
     "output_type": "execute_result"
    },
    {
     "data": {
      "image/png": "[encoded data removed]",
      "text/plain": [
       "<matplotlib.figure.Figure at 0x120806f50>"
      ]
     },
     "metadata": {},
     "output_type": "display_data"
    }
   ],
   "source": [
    "edges = np.linspace(-10,10,50)\n",
    "a,b,c = plt.hist(samples10long,bins=edges,normed=True)\n",
    "plt.plot(xplot,target,lw=2,color='r')"
   ]
  },
  {
   "cell_type": "markdown",
   "metadata": {},
   "source": [
    "Just as we hoped, we see that, *eventually*, even really terrible samplers will return the target distribution. (So long as they are Markovian and give access to the entire parameter space!)\n",
    "\n",
    "When looking at the original chains for the low-$\\alpha$ proposal distributions, it was clear that the chain 'wasn't moving around very much.' In math-speak, this means that it has a *high autocorrelation* - the value at point n is a good predictor of the value at point n+1. \n",
    "\n",
    "If we define the quantity\n",
    "\\begin{equation}\n",
    "\\gamma(h) = \\frac{1}{N-h}\\sum^{N-h}_{i=1} (x_{i+h} - \\bar{x})(x_i - \\bar{x}),\n",
    "\\end{equation}\n",
    "where $N$ is the number of samples, $\\{ x\\}$ is the set of samples, and $\\bar{x}$ is the sample mean (note that with these definitions, $\\gamma(0)$ is just the sample variance), then the autocorrelation length is roughly the value of $h$ at which the ratio,\n",
    "\\begin{equation}\n",
    "\\rho(h) = \\frac{\\gamma(h)}{\\gamma(0)},\n",
    "\\end{equation}\n",
    "drops to $\\sim0.01$.\n",
    "\n",
    "Let's compute the autocorrelation length for the short chains we generated at the beginning of this notebook"
   ]
  },
  {
   "cell_type": "code",
   "execution_count": 282,
   "metadata": {
    "collapsed": true
   },
   "outputs": [],
   "source": [
    "def gammacorr(x,h):\n",
    "    x = np.array(x)\n",
    "    N = len(x)\n",
    "    smean = np.mean(x)         #calculate the sample mean\n",
    "    xshift = x[h:].copy()      #shifted samples\n",
    "    xnew = x[0:N-h].copy()     #shortened samples\n",
    "    \n",
    "    xshift -= smean            #subtract the sample mean\n",
    "    xnew -= smean\n",
    "    \n",
    "    gh = (1./float(N-h))*np.dot(xshift,xnew)       #calculate gamma\n",
    "    \n",
    "    return gh"
   ]
  },
  {
   "cell_type": "code",
   "execution_count": 287,
   "metadata": {
    "collapsed": false
   },
   "outputs": [
    {
     "name": "stdout",
     "output_type": "stream",
     "text": [
      "31\n"
     ]
    }
   ],
   "source": [
    "samples = samples1.copy()\n",
    "gval = np.var(samples)\n",
    "svar = np.var(samples)\n",
    "rho = gval/svar\n",
    "acl = 0\n",
    "while rho>0.01:\n",
    "    acl += 1\n",
    "    gval = gammacorr(samples,acl)\n",
    "    rho = gval/svar\n",
    "print acl"
   ]
  },
  {
   "cell_type": "code",
   "execution_count": 288,
   "metadata": {
    "collapsed": false
   },
   "outputs": [
    {
     "name": "stdout",
     "output_type": "stream",
     "text": [
      "32\n"
     ]
    }
   ],
   "source": [
    "samples = samples10.copy()\n",
    "gval = np.var(samples)\n",
    "svar = np.var(samples)\n",
    "rho = gval/svar\n",
    "acl = 0\n",
    "while rho>0.01:\n",
    "    acl += 1\n",
    "    gval = gammacorr(samples,acl)\n",
    "    rho = gval/svar\n",
    "print acl"
   ]
  },
  {
   "cell_type": "code",
   "execution_count": 289,
   "metadata": {
    "collapsed": false
   },
   "outputs": [
    {
     "name": "stdout",
     "output_type": "stream",
     "text": [
      "171\n"
     ]
    }
   ],
   "source": [
    "samples = samples01.copy()\n",
    "gval = np.var(samples)\n",
    "svar = np.var(samples)\n",
    "rho = gval/svar\n",
    "acl = 0\n",
    "while rho>0.01:\n",
    "    acl += 1\n",
    "    gval = gammacorr(samples,acl)\n",
    "    rho = gval/svar\n",
    "print acl"
   ]
  },
  {
   "cell_type": "code",
   "execution_count": 290,
   "metadata": {
    "collapsed": false
   },
   "outputs": [
    {
     "name": "stdout",
     "output_type": "stream",
     "text": [
      "624\n"
     ]
    }
   ],
   "source": [
    "samples = samples001.copy()\n",
    "gval = np.var(samples)\n",
    "svar = np.var(samples)\n",
    "rho = gval/svar\n",
    "acl = 0\n",
    "while rho>0.01:\n",
    "    acl += 1\n",
    "    gval = gammacorr(samples,acl)\n",
    "    rho = gval/svar\n",
    "print acl"
   ]
  },
  {
   "cell_type": "markdown",
   "metadata": {},
   "source": [
    "The autocorrelation lengths essentially follow the pattern we would expect from inspecting the chains by eye.\n",
    "\n",
    "To choose the 'correct' value for $\\alpha$, we can use the Fisher information matrix (1x1 matrix for this case), which is essentially the quadratic approximation to the likelihood. It tells us the variance of the best-fit Gaussian to the target distribution.\n",
    "\n",
    "The Fisher matrix is defined in general by\n",
    "\\begin{equation}\n",
    "\\Gamma_{ij} \\partial_i \\partial_j \\log (\\rm{like})|_{\\rm{max}}.\n",
    "\\end{equation}\n",
    "Each component is defined as the second derivative of the log of the likelihood function, evaluated at the peak of the likelihood. The inverse of this matrix is the *covariance matrix*, which gives the values of $\\sigma$ for each parameter for a Gaussian distribution."
   ]
  },
  {
   "cell_type": "code",
   "execution_count": null,
   "metadata": {
    "collapsed": true
   },
   "outputs": [],
   "source": [
    "def Fisher()"
   ]
  }
 ],
 "metadata": {
  "kernelspec": {
   "display_name": "Python 2",
   "language": "python",
   "name": "python2"
  },
  "language_info": {
   "codemirror_mode": {
    "name": "ipython",
    "version": 2
   },
   "file_extension": ".py",
   "mimetype": "text/x-python",
   "name": "python",
   "nbconvert_exporter": "python",
   "pygments_lexer": "ipython2",
   "version": "2.7.12"
  }
 },
 "nbformat": 4,
 "nbformat_minor": 2
}
