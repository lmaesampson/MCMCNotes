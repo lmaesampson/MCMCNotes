{
 "cells": [
  {
   "cell_type": "code",
   "execution_count": 2,
   "metadata": {
    "collapsed": false
   },
   "outputs": [],
   "source": [
    "import numpy as np\n",
    "import scipy as sp\n",
    "\n",
    "import matplotlib.pyplot as plt\n",
    "from matplotlib import rc\n",
    "rc('font',**{'family':'sans-serif','sans-serif':['Helvetica']})\n",
    "rc('text', usetex=True) #Want to be able to use tex in the plot labels\n",
    "%matplotlib inline\n",
    "import seaborn\n",
    "\n",
    "seaborn.set_style('ticks')\n",
    "seaborn.set_color_codes()"
   ]
  },
  {
   "cell_type": "markdown",
   "metadata": {},
   "source": [
    "### What is a Markov chain Monte Carlo sampler?\n",
    "\n",
    "To understand what an MCMC is, and what it's for, we first have to talk about Bayesian probability theory, which really boils down to one simple equation: Bayes' Theorem (CITE the rev):\n",
    "\n",
    "\\begin{equation}\n",
    "p(A|B) = \\frac{p(B|A)p(A)}{p(B)}\n",
    "\\end{equation}\n",
    "\n",
    "This equation states that the probability of event $A$ given event $B$ is equal to the probability of $B$ given $A$ (the **likelihood** of B), multiplied by the probability of $A$ without observing $B$ (the **prior** on $A$), divided by the probability of $B$ without considering $A$ (the **evidence** or **fully marginalized likelihood (FML)**).  \n",
    "\n",
    "Now, instead of two events, think of $A$ as a model and $B$ as a piece of data. This is now the equation for the probability that $A$ is the correct model, given observation $B$. We'll switch to $\\mathcal{M}$ and $d$ for clarity. Finally, assume that $\\mathcal{M}$ is a model that is parameterized by the parameter, $\\theta$. What we are often looking for in this case is the *posterior distribution* for $\\theta$ - this is the inferred probability distribution on the parameter after we've made an observation. So\n",
    "\\begin{equation}\n",
    "p(\\theta|d,\\mathcal{M}) = \\frac{p(d|\\mathcal{M},\\theta) p(\\theta)}{p(d,\\mathcal{M})}.\n",
    "\\end{equation}\n",
    "The term on the denominator is, again, the evidence, and is defined via\n",
    "\\begin{equation}\n",
    "p(d,\\mathcal{M}) = \\int p(d|\\mathcal{M},\\theta) p(\\theta) d\\theta\n",
    "\\end{equation}\n",
    "The integration over $\\theta$ is called *marginalization*. In the case of parameter estimation, this factor serves as a normalizing constant - because the posterior distribution is a probability density, it must integrate to one. \n",
    "\n",
    "This integral is often super nasty! In most interesting data analysis problems, it is not tractible analytically, and is either quite high-dimensional, multi-modal, steeply peaked, or all of these things. This means that standard numerical integration techniques are not sufficient. This is where MCMC's come in! \n",
    "\n",
    "In the context of Bayesian inference, an MCMC is a way to avoid doing an integral. \n",
    "\n",
    "Ok, so what do we mean by *Markov chain* and what do we mean by *Monte Carlo*? A *chain* in this context is simply a set of points in N-dimensional parameter space. The chain is constructed by starting at a random point in parameter space, and proposing a 'jump' to a new point using some type of random proposal. We either accept or reject this jump based on what is called the *Hating's ratio*, defined as\n",
    "\\begin{equation}\n",
    "H_{xy} = \\frac{\\rm{like}(y) \\rm{prior}(y) q(x|y)}{\\rm{like}(x)\\rm{prior}(x)q(y|x)},\n",
    "\\end{equation}\n",
    "\n",
    "where $\\rm{like}(x)$ is the likelihood function evaluated at $x$, $\\rm{prior}(x)$ is the prior evaluated at $x$, and $q(x|y)$ is the probability of proposing point $x$ from point $y$ - $q$ is the *proposal density*. When running an MCMC, you calculate this value at each newly proposed point, compare $H$ to a random number (hence, Monte Carlo), $r$, between 1 and 0, and accept this new position if $H>r$. Rinse and repeat.\n",
    "\n",
    "If your proposal distributions meet a couple of requirements, the chain that you generate in this manner is guaranteed to (eventually) consist of sampeles that reflect the posterior distribution. The simplest requirement is that the entire parameter space must be accessible to the chain. For instance, if a particular parameter can range between 0 and 10, but I only ever propose values between 0 and 5, this will obviously not return the correct distribution. The slighlty more complicated requirement is that the proposal must be *Markovian*, which means that it cannot depend on the history of the chain, only on the current location. i.e., if you are proposing the $N+1$ step in the chain, $q(y|x_N)$ is fine, but $q(y|x_N,x_{N-1})$ is not.\n",
    "\n",
    "(There are lots of great resources for learning about Bayes' theorem (LIST), and I don't aim to be one of them. What I want to do in this Notebook is give a basic understanding of how MCMC's are used in Bayesian analysis.)"
   ]
  },
  {
   "cell_type": "markdown",
   "metadata": {},
   "source": [
    "### Generating Samples from a Distribution\n",
    "\n",
    "As discussed above, MCMC is used in Bayesian inference to avoid having to calculate the fully marginalized likelihood, which is aptly initialized as FML. But what we're *really* doing is generating samples from the posterior distribution. And this is what MCMC is really for - generating samples from a given distribution.\n",
    "\n",
    "This may sound odd, but think about it for a moment - if I can write down a probability distribution, say the shifted Student-t\n",
    "\\begin{equation}\n",
    "p(x|\\nu,\\sigma,\\mu) = \\frac{\\Gamma((\\nu +1)/2}{\\sqrt{\\nu \\pi \\sigma^2}\\Gamma(\\nu/2)} \\left(1 +\\frac{1}{\\nu} \\left( \\frac{x-\\mu}{\\sigma} \\right)^2 \\right),\n",
    "\\end{equation}\n",
    "How on Earth do I generate samples from this distribution? That is, how do I write down a set of numbers that are drawn with exactly this probability? (If this is still confusing: if I have a large number of samples, I want the histogram of these samples to look like the probability distribution.)\n",
    "\n",
    "For our first example, we will use MCMC to do exactly that. We will generate samples from the above function, with $\\nu = 3$, $\\mu=1$, and $\\sigma = 1$.\n",
    "\n",
    "**First, we define the likelihood:**"
   ]
  },
  {
   "cell_type": "code",
   "execution_count": 3,
   "metadata": {
    "collapsed": true
   },
   "outputs": [],
   "source": [
    "def like(x):                  #x is read in to this function\n",
    "    nu = 3.                   #the parameters of the distribution are fixed\n",
    "    sigma = 1.\n",
    "    mu = 2.\n",
    "    \n",
    "    norm = np.sqrt(nu*np.pi*sigma*sigma)\n",
    "    ratio = sp.special.gamma((nu+1.)/2.)/sp.special.gamma(nu/2.)\n",
    "    \n",
    "    px = ratio*(1.+(1./nu)*((x-mu)**2)/sigma)**(-(nu+1.)/2.)/norm\n",
    "    \n",
    "    return px"
   ]
  },
  {
   "cell_type": "markdown",
   "metadata": {},
   "source": [
    "**What about the proposal distribution?**\n",
    "\n",
    "If we have infinite time to wait, any proposal distribution will eventually produce samples distributed in the way we want (with a couple of caveats). But we typically don't have the age of the universe to wait, and so one of the key points of the black art of MCMC design is implementing proposal distributions that lead to faster convergence.\n",
    "\n",
    "To explore what we mean by 'fast convergence,' and some of the choices we can make in proposal distributions, we will use a Gaussian proposal distribution with variance $\\alpha$:\n",
    "\\begin{equation}\n",
    "q(y|x) = \\frac{1}{\\sqrt{2\\pi\\alpha^2}} e^{-(y-x)^2/2\\alpha^2}.\n",
    "\\end{equation}\n",
    "This distribution is symmetric upon exchange of $x$ and $y$, and so the calculation of the Metropolis-Hastings ratio is quite simple.\n",
    "\n",
    "We are going to run an MCMC for 1000 iterations with different values of $\\alpha$, and then look at the chains, the distribution of the samples, and the acceptance rates to learn a little about proposal design."
   ]
  },
  {
   "cell_type": "code",
   "execution_count": 4,
   "metadata": {
    "collapsed": false
   },
   "outputs": [],
   "source": [
    "def prop(x,alpha):          #needs current location (x), and variance of Gaussian (alpha)\n",
    "    return np.random.normal(loc=x,scale=alpha)\n",
    "    "
   ]
  },
  {
   "cell_type": "code",
   "execution_count": 5,
   "metadata": {
    "collapsed": false
   },
   "outputs": [],
   "source": [
    "Nstep = 2000                #number of iterations for which to run the chain\n",
    "xstart = 0.                 #gotta start somewhere\n",
    "alpha = 10.0                #variance for prop. dist.\n",
    "\n",
    "samples10 = []              #empty list to store the samples\n",
    "Nacc = 0.                   #counter for accepted jumps\n",
    "x = xstart\n",
    "for i in range(Nstep):      #for loop is the actual sampling process\n",
    "    lx = like(x)            #likelihood at x \n",
    "    y = prop(x,alpha)       #propose a new value - y\n",
    "    ly = like(y)            #likelihood at y\n",
    "    r = np.random.rand()\n",
    "    if ly/lx > r:           #compare the Hastings ratio (in this case just the likelihood ratio) to random number r.\n",
    "                            #Note that we haven't explicitly calcualted a prior value - this is fine if the prior is\n",
    "                            #uniform in all parameters. It will just cancel out of the Hastings ratio in this case.\n",
    "        x = y               #if H>r, accept the jump.\n",
    "        Nacc += 1.          #iterate the acceptance counter\n",
    "    samples10.append(x)     #whether the jump was accepted or not, the current value of x is a new sample.\n",
    "AR10 = Nacc/Nstep           #calculate the acceptance rate."
   ]
  },
  {
   "cell_type": "code",
   "execution_count": 6,
   "metadata": {
    "collapsed": false
   },
   "outputs": [],
   "source": [
    "#Rinse and repeat for three other values of alpha: 1, 0.1, and 0.01\n",
    "alpha = 1.0    \n",
    "samples1 = []\n",
    "Nacc = 0.\n",
    "x = xstart\n",
    "for i in range(Nstep):\n",
    "    lx = like(x)\n",
    "    y = prop(x,alpha)\n",
    "    ly = like(y)\n",
    "    r = np.random.rand()\n",
    "    if ly/lx > r:\n",
    "        x = y\n",
    "        Nacc += 1.\n",
    "    samples1.append(x)\n",
    "AR1 = Nacc/Nstep\n",
    " \n",
    "\n",
    "alpha = .1    \n",
    "samples01 = []\n",
    "Nacc = 0.\n",
    "x = xstart\n",
    "for i in range(Nstep):\n",
    "    lx = like(x)\n",
    "    y = prop(x,alpha)\n",
    "    ly = like(y)\n",
    "    r = np.random.rand()\n",
    "    if ly/lx > r:\n",
    "        x = y\n",
    "        Nacc += 1.\n",
    "    samples01.append(x)\n",
    "AR01 = Nacc/Nstep\n",
    "    \n",
    "\n",
    "alpha = .01    \n",
    "samples001 = []\n",
    "Nacc = 0.\n",
    "x = xstart\n",
    "for i in range(Nstep):\n",
    "    lx = like(x)\n",
    "    y = prop(x,alpha)\n",
    "    ly = like(y)\n",
    "    r = np.random.rand()\n",
    "    if ly/lx > r:\n",
    "        x = y\n",
    "        Nacc += 1.\n",
    "    samples001.append(x)\n",
    "AR001 = Nacc/Nstep\n",
    "\n",
    "samples10 = np.array(samples10)\n",
    "samples1 = np.array(samples1)\n",
    "samples01 = np.array(samples01)\n",
    "samples001 = np.array(samples001)"
   ]
  },
  {
   "cell_type": "markdown",
   "metadata": {},
   "source": [
    "First, let's look at the **acceptance ratios**. \n",
    "\n",
    "Obviously, you want to be able to generate a lot of samples from the desired distribution without wasting too many iterations on jump proposals that are rejected. So a high acceptance ratio seems like it would be good."
   ]
  },
  {
   "cell_type": "code",
   "execution_count": 7,
   "metadata": {
    "collapsed": false
   },
   "outputs": [
    {
     "name": "stdout",
     "output_type": "stream",
     "text": [
      "alpha = 10 AR = 0.158\n",
      "alpha = 1 AR = 0.709\n",
      "alpha = 0.1 AR = 0.975\n",
      "alpha = 0.01 AR = 0.996\n"
     ]
    }
   ],
   "source": [
    "print 'alpha = 10 AR =', AR10\n",
    "print 'alpha = 1 AR =',AR1\n",
    "print 'alpha = 0.1 AR =',AR01\n",
    "print 'alpha = 0.01 AR =', AR001"
   ]
  },
  {
   "cell_type": "markdown",
   "metadata": {},
   "source": [
    "And we get some really high acceptance ratios! From this alone, we may think that the proposal distribution with the smallest alpha is the best - almost every single jump proposal was accepted!\n",
    "\n",
    "Let's look at the chains to dig a little deeper."
   ]
  },
  {
   "cell_type": "markdown",
   "metadata": {},
   "source": [
    "**Plot the chains:**"
   ]
  },
  {
   "cell_type": "code",
   "execution_count": 8,
   "metadata": {
    "collapsed": false
   },
   "outputs": [
    {
     "data": {
      "text/plain": [
       "<matplotlib.legend.Legend at 0x10fe85050>"
      ]
     },
     "execution_count": 8,
     "metadata": {},
     "output_type": "execute_result"
    },
    {
     "data": {
      "image/png": "[encoded data removed]",
      "text/plain": [
       "<Figure size 432x288 with 1 Axes>"
      ]
     },
     "metadata": {},
     "output_type": "display_data"
    }
   ],
   "source": [
    "plt.plot(samples10,marker='.',linestyle='None',label =r'$\\alpha=10$')\n",
    "plt.plot(samples1,marker='.',linestyle='None',label =r'$\\alpha=1$')\n",
    "plt.plot(samples01,marker='.',linestyle='None',label =r'$\\alpha=0.1$')\n",
    "plt.plot(samples001,marker='.',linestyle='None',label =r'$\\alpha=0.01$')\n",
    "plt.legend()"
   ]
  },
  {
   "cell_type": "markdown",
   "metadata": {},
   "source": [
    "It's pretty clear from thie graph that the proposal distributions with very small $\\alpha$ are not exploring very much of the space. We can also see the effect of that very low acceptance ratio for $\\alpha = 10$ - there are lots of 'clumps' of points in the blue chain. From this graph, it looks like $\\alpha=1.0$ is doing the best job exploring the space, even though its acceptance ratio is not the highest.\n",
    "\n",
    "Let's look now at the histogram for each of our samples, compared to the target distribution"
   ]
  },
  {
   "cell_type": "code",
   "execution_count": 9,
   "metadata": {
    "collapsed": true
   },
   "outputs": [],
   "source": [
    "xplot = np.linspace(-10,10,5000)      #Need an x axis for plotting\n",
    "target = like(xplot)                   #target distribution"
   ]
  },
  {
   "cell_type": "markdown",
   "metadata": {},
   "source": [
    "First, we look at $\\alpha = 10.$ As expected, we see a lot of sharp peaks in the distribution, which reflects the 'clumpiness' of the chain. We have, though, at least explored the bulk of the x range in which the target distribution has non-negligible support"
   ]
  },
  {
   "cell_type": "code",
   "execution_count": 10,
   "metadata": {
    "collapsed": false
   },
   "outputs": [
    {
     "name": "stderr",
     "output_type": "stream",
     "text": [
      "/Users/laurasampson/anaconda/lib/python2.7/site-packages/matplotlib/axes/_axes.py:6462: UserWarning: The 'normed' kwarg is deprecated, and has been replaced by the 'density' kwarg.\n",
      "  warnings.warn(\"The 'normed' kwarg is deprecated, and has been \"\n"
     ]
    },
    {
     "data": {
      "text/plain": [
       "[<matplotlib.lines.Line2D at 0x10fe85ad0>]"
      ]
     },
     "execution_count": 10,
     "metadata": {},
     "output_type": "execute_result"
    },
    {
     "data": {
      "image/png": "[encoded data removed]",
      "text/plain": [
       "<Figure size 432x288 with 1 Axes>"
      ]
     },
     "metadata": {},
     "output_type": "display_data"
    }
   ],
   "source": [
    "edges = np.linspace(-5,5,50)\n",
    "a,b,c = plt.hist(samples10,bins=edges,normed=True)\n",
    "plt.plot(xplot,target,lw=2,color='r')"
   ]
  },
  {
   "cell_type": "markdown",
   "metadata": {},
   "source": [
    "In the next two graphs, we look ath the distributions for $\\alpha = 0.1$ and $\\alpha = 0.01$. Again, consistent with what we can see in the chains, it is clear that neither of these distributions have come anywhere close to exploring the full space. These are not good representations of the target distribution."
   ]
  },
  {
   "cell_type": "code",
   "execution_count": 11,
   "metadata": {
    "collapsed": false
   },
   "outputs": [
    {
     "data": {
      "text/plain": [
       "[<matplotlib.lines.Line2D at 0x11337d550>]"
      ]
     },
     "execution_count": 11,
     "metadata": {},
     "output_type": "execute_result"
    },
    {
     "data": {
      "image/png": "[encoded data removed]",
      "text/plain": [
       "<Figure size 432x288 with 1 Axes>"
      ]
     },
     "metadata": {},
     "output_type": "display_data"
    }
   ],
   "source": [
    "edges = np.linspace(-5,5,50)\n",
    "a,b,c = plt.hist(samples01,bins=edges,normed=True)\n",
    "plt.plot(xplot,target,lw=2,color='r')"
   ]
  },
  {
   "cell_type": "code",
   "execution_count": 12,
   "metadata": {
    "collapsed": false
   },
   "outputs": [
    {
     "data": {
      "text/plain": [
       "[<matplotlib.lines.Line2D at 0x113450d50>]"
      ]
     },
     "execution_count": 12,
     "metadata": {},
     "output_type": "execute_result"
    },
    {
     "data": {
      "image/png": "[encoded data removed]",
      "text/plain": [
       "<Figure size 432x288 with 1 Axes>"
      ]
     },
     "metadata": {},
     "output_type": "display_data"
    }
   ],
   "source": [
    "edges = np.linspace(-5,5,50)\n",
    "a,b,c = plt.hist(samples001,bins=edges,normed=True)\n",
    "plt.plot(xplot,target,lw=2,color='r')"
   ]
  },
  {
   "cell_type": "markdown",
   "metadata": {},
   "source": [
    "Finally, we have our goldilocks distribution: $\\alpha = 1.0$. While it has not perfectly recovered the target distribution by any means, it is a much better approximation than the other three."
   ]
  },
  {
   "cell_type": "code",
   "execution_count": 13,
   "metadata": {
    "collapsed": false
   },
   "outputs": [
    {
     "data": {
      "text/plain": [
       "[<matplotlib.lines.Line2D at 0x1134c93d0>]"
      ]
     },
     "execution_count": 13,
     "metadata": {},
     "output_type": "execute_result"
    },
    {
     "data": {
      "image/png": "[encoded data removed]",
      "text/plain": [
       "<Figure size 432x288 with 1 Axes>"
      ]
     },
     "metadata": {},
     "output_type": "display_data"
    }
   ],
   "source": [
    "edges = np.linspace(-5,5,50)\n",
    "a,b,c = plt.hist(samples1,bins=edges,normed=True)\n",
    "plt.plot(xplot,target,lw=2,color='r')"
   ]
  },
  {
   "cell_type": "markdown",
   "metadata": {},
   "source": [
    "**Note: this does not mean that there is anything wrong with our proposal distribution or sampler!** \n",
    "\n",
    "To see this, we now run the $\\alpha = 0.1$ and the $\\alpha = 10$ samplers for $1e6$ iterations."
   ]
  },
  {
   "cell_type": "code",
   "execution_count": 14,
   "metadata": {
    "collapsed": false
   },
   "outputs": [],
   "source": [
    "Nstep = 1e6\n",
    "Nstep = int(Nstep)\n",
    "\n",
    "alpha = 10.\n",
    "samples10long = []              \n",
    "x = xstart\n",
    "for i in range(Nstep):     \n",
    "    lx = like(x)            \n",
    "    y = prop(x,alpha)       \n",
    "    ly = like(y)            \n",
    "    r = np.random.rand()\n",
    "    if ly/lx > r:           \n",
    "        x = y               \n",
    "    samples10long.append(x)     \n",
    "\n",
    "\n",
    "alpha = .1    \n",
    "samples01long = []\n",
    "x = xstart\n",
    "for i in range(Nstep):\n",
    "    lx = like(x)\n",
    "    y = prop(x,alpha)\n",
    "    ly = like(y)\n",
    "    r = np.random.rand()\n",
    "    if ly/lx > r:\n",
    "        x = y\n",
    "    samples01long.append(x)\n"
   ]
  },
  {
   "cell_type": "markdown",
   "metadata": {},
   "source": [
    "$\\alpha = 0.1$ first, then $\\alpha = 10.$:"
   ]
  },
  {
   "cell_type": "code",
   "execution_count": 15,
   "metadata": {
    "collapsed": false
   },
   "outputs": [
    {
     "data": {
      "text/plain": [
       "[<matplotlib.lines.Line2D at 0x1133bfd50>]"
      ]
     },
     "execution_count": 15,
     "metadata": {},
     "output_type": "execute_result"
    },
    {
     "data": {
      "image/png": "[encoded data removed]",
      "text/plain": [
       "<Figure size 432x288 with 1 Axes>"
      ]
     },
     "metadata": {},
     "output_type": "display_data"
    }
   ],
   "source": [
    "edges = np.linspace(-10,10,50)\n",
    "a,b,c = plt.hist(samples01long,bins=edges,normed=True)\n",
    "plt.plot(xplot,target,lw=2,color='r')"
   ]
  },
  {
   "cell_type": "code",
   "execution_count": 16,
   "metadata": {
    "collapsed": false
   },
   "outputs": [
    {
     "data": {
      "text/plain": [
       "[<matplotlib.lines.Line2D at 0x1137a2fd0>]"
      ]
     },
     "execution_count": 16,
     "metadata": {},
     "output_type": "execute_result"
    },
    {
     "data": {
      "image/png": "[encoded data removed]",
      "text/plain": [
       "<Figure size 432x288 with 1 Axes>"
      ]
     },
     "metadata": {},
     "output_type": "display_data"
    }
   ],
   "source": [
    "edges = np.linspace(-10,10,50)\n",
    "a,b,c = plt.hist(samples10long,bins=edges,normed=True)\n",
    "plt.plot(xplot,target,lw=2,color='r')"
   ]
  },
  {
   "cell_type": "markdown",
   "metadata": {},
   "source": [
    "Just as we hoped, we see that, *eventually*, even really terrible samplers will return the target distribution. (So long as they are Markovian and give access to the entire parameter space!)\n",
    "\n",
    "When looking at the original chains for the low-$\\alpha$ proposal distributions, it was clear that the chain 'wasn't moving around very much.' In math-speak, this means that it has a *high autocorrelation* - the value at point n is a good predictor of the value at point n+1. \n",
    "\n",
    "If we define the quantity\n",
    "\\begin{equation}\n",
    "\\gamma(h) = \\frac{1}{N-h}\\sum^{N-h}_{i=1} (x_{i+h} - \\bar{x})(x_i - \\bar{x}),\n",
    "\\end{equation}\n",
    "where $N$ is the number of samples, $\\{ x\\}$ is the set of samples, and $\\bar{x}$ is the sample mean (note that with these definitions, $\\gamma(0)$ is just the sample variance), then the autocorrelation length is roughly the value of $h$ at which the ratio,\n",
    "\\begin{equation}\n",
    "\\rho(h) = \\frac{\\gamma(h)}{\\gamma(0)},\n",
    "\\end{equation}\n",
    "drops to $\\sim0.01$.\n",
    "\n",
    "Let's compute the autocorrelation length for the short chains we generated at the beginning of this notebook"
   ]
  },
  {
   "cell_type": "code",
   "execution_count": 17,
   "metadata": {
    "collapsed": true
   },
   "outputs": [],
   "source": [
    "def gammacorr(x,h):\n",
    "    x = np.array(x)\n",
    "    N = len(x)\n",
    "    smean = np.mean(x)         #calculate the sample mean\n",
    "    xshift = x[h:].copy()      #shifted samples\n",
    "    xnew = x[0:N-h].copy()     #shortened samples\n",
    "    \n",
    "    xshift -= smean            #subtract the sample mean\n",
    "    xnew -= smean\n",
    "    \n",
    "    gh = (1./float(N-h))*np.dot(xshift,xnew)       #calculate gamma\n",
    "    \n",
    "    return gh"
   ]
  },
  {
   "cell_type": "code",
   "execution_count": 18,
   "metadata": {
    "collapsed": false
   },
   "outputs": [
    {
     "name": "stdout",
     "output_type": "stream",
     "text": [
      "99\n"
     ]
    }
   ],
   "source": [
    "samples = samples1.copy()\n",
    "gval = np.var(samples)\n",
    "svar = np.var(samples)\n",
    "rho = gval/svar\n",
    "acl = 0\n",
    "while rho>0.01:\n",
    "    acl += 1\n",
    "    gval = gammacorr(samples,acl)\n",
    "    rho = gval/svar\n",
    "print acl"
   ]
  },
  {
   "cell_type": "code",
   "execution_count": 19,
   "metadata": {
    "collapsed": false
   },
   "outputs": [
    {
     "name": "stdout",
     "output_type": "stream",
     "text": [
      "26\n"
     ]
    }
   ],
   "source": [
    "samples = samples10.copy()\n",
    "gval = np.var(samples)\n",
    "svar = np.var(samples)\n",
    "rho = gval/svar\n",
    "acl = 0\n",
    "while rho>0.01:\n",
    "    acl += 1\n",
    "    gval = gammacorr(samples,acl)\n",
    "    rho = gval/svar\n",
    "print acl"
   ]
  },
  {
   "cell_type": "code",
   "execution_count": 20,
   "metadata": {
    "collapsed": false
   },
   "outputs": [
    {
     "name": "stdout",
     "output_type": "stream",
     "text": [
      "649\n"
     ]
    }
   ],
   "source": [
    "samples = samples01.copy()\n",
    "gval = np.var(samples)\n",
    "svar = np.var(samples)\n",
    "rho = gval/svar\n",
    "acl = 0\n",
    "while rho>0.01:\n",
    "    acl += 1\n",
    "    gval = gammacorr(samples,acl)\n",
    "    rho = gval/svar\n",
    "print acl"
   ]
  },
  {
   "cell_type": "code",
   "execution_count": 21,
   "metadata": {
    "collapsed": false
   },
   "outputs": [
    {
     "name": "stdout",
     "output_type": "stream",
     "text": [
      "251\n"
     ]
    }
   ],
   "source": [
    "samples = samples001.copy()\n",
    "gval = np.var(samples)\n",
    "svar = np.var(samples)\n",
    "rho = gval/svar\n",
    "acl = 0\n",
    "while rho>0.01:\n",
    "    acl += 1\n",
    "    gval = gammacorr(samples,acl)\n",
    "    rho = gval/svar\n",
    "print acl"
   ]
  },
  {
   "cell_type": "markdown",
   "metadata": {},
   "source": [
    "The autocorrelation lengths essentially follow the pattern we would expect from inspecting the chains by eye.\n",
    "\n",
    "**What is the best possible proposal distribution?**\n",
    "If you want to have a perfect sampler, you want every single proposal to be accepted. This happens when the Hastings ratio is equal to 1.0, which happens when *the proposal distribution is the same as the target distribution.* Of course, if you knew how to draw samples from the target distribution, you wouldn't be using an MCMC. Instead, we can attempt to approximate the target distribution in our proposals. \n",
    "\n",
    "One way to do this is with the Fisher information matrix, which is essentially the quadratic (that is, Gaussian) approximation to the likelihood. This will tell us the value of $\\alpha$ that gives us the best-fit Gaussian to the target distribution, and thus the best Gaussian proposal distribution.\n",
    "\n",
    "The Fisher matrix is defined in general by\n",
    "\\begin{equation}\n",
    "\\Gamma_{ij} \\partial_i \\partial_j \\log (\\rm{like})|_{\\rm{max}}.\n",
    "\\end{equation}\n",
    "Each component is defined as the second derivative of the log of the likelihood function, evaluated at the peak of the likelihood. The inverse of this matrix is the *covariance matrix*, which gives the values of $\\sigma$ for each parameter for a Gaussian distribution.\n",
    "\n",
    "Because we have an analytic expression for the likelihood function, we could just go ahead and calculate an analytic derivative. Typically, though, you'll need to calculate the Fisher matrix numerically, so that's what we'll do.\n",
    "\n",
    "(Note that you'll often also not know where the peak of the likelihood is. In this case, you can guess where the peak might be and just calculate the Fisher there. Or, more commonly, calculate the Fisher at a particular point, use that Fisher for a while, then update later when you're closer to the peak.)\n",
    "\n",
    "Because our is a one-dimensional distribution, the covariance matrix will just be $1/\\rm{Fisher}$. This is equal to $\\sigma_\\mu^2$, which is the uncertainty in $\\mu$. This is the value we will use for $\\alpha$ in our 'ideal' Gaussian proposal distribution."
   ]
  },
  {
   "cell_type": "code",
   "execution_count": 28,
   "metadata": {
    "collapsed": false
   },
   "outputs": [
    {
     "name": "stdout",
     "output_type": "stream",
     "text": [
      "1.33331111161 0.866032620592\n"
     ]
    }
   ],
   "source": [
    "mu = 2. #Where do we want to assume the peak is?\n",
    "epsilon = 0.01 #small number for numerical differentiation\n",
    "likeplus = np.log(like(mu+epsilon))\n",
    "likeminus = np.log(like(mu-epsilon))\n",
    "likepeak = np.log(like(mu))\n",
    "ddlike = (likeplus+likeminus-2*likepeak)/epsilon**2 #formula for numerical derivative\n",
    "afish = np.sqrt(-1./ddlike) #find sigma_mu, call it alpha\n",
    "print -ddlike, np.sqrt(-1./ddlike)"
   ]
  },
  {
   "cell_type": "markdown",
   "metadata": {},
   "source": [
    "Now we run for 2000 steps again, with our optimized value for alpha. This value, 0.87, isn't that different from 1.0, so we expect to see similar results."
   ]
  },
  {
   "cell_type": "code",
   "execution_count": 29,
   "metadata": {
    "collapsed": true
   },
   "outputs": [],
   "source": [
    "Nstep = 2000\n",
    "alpha = afish\n",
    "samplesfish = []\n",
    "Nacc = 0.\n",
    "x = xstart\n",
    "for i in range(Nstep):\n",
    "    lx = like(x)\n",
    "    y = prop(x,alpha)\n",
    "    ly = like(y)\n",
    "    r = np.random.rand()\n",
    "    if ly/lx > r:\n",
    "        x = y\n",
    "        Nacc += 1.\n",
    "    samplesfish.append(x)\n",
    "ARfish = Nacc/Nstep"
   ]
  },
  {
   "cell_type": "markdown",
   "metadata": {},
   "source": [
    "The acceptance rate:"
   ]
  },
  {
   "cell_type": "code",
   "execution_count": 24,
   "metadata": {
    "collapsed": false
   },
   "outputs": [
    {
     "name": "stdout",
     "output_type": "stream",
     "text": [
      "0.7775\n"
     ]
    }
   ],
   "source": [
    "print ARfish"
   ]
  },
  {
   "cell_type": "markdown",
   "metadata": {},
   "source": [
    "A look at the chain itself:"
   ]
  },
  {
   "cell_type": "code",
   "execution_count": 25,
   "metadata": {
    "collapsed": false
   },
   "outputs": [
    {
     "data": {
      "text/plain": [
       "[<matplotlib.lines.Line2D at 0x11438e610>]"
      ]
     },
     "execution_count": 25,
     "metadata": {},
     "output_type": "execute_result"
    },
    {
     "data": {
      "image/png": "[encoded data removed]",
      "text/plain": [
       "<Figure size 432x288 with 1 Axes>"
      ]
     },
     "metadata": {},
     "output_type": "display_data"
    }
   ],
   "source": [
    "plt.plot(samplesfish)"
   ]
  },
  {
   "cell_type": "markdown",
   "metadata": {},
   "source": [
    "A plot of the samples (blue histogram), the target distribution (red), and the Gaussian approximation we are using as our proposal distribution (green). Things look pretty good!"
   ]
  },
  {
   "cell_type": "code",
   "execution_count": 30,
   "metadata": {
    "collapsed": false
   },
   "outputs": [
    {
     "data": {
      "text/plain": [
       "[<matplotlib.lines.Line2D at 0x1145c7990>]"
      ]
     },
     "execution_count": 30,
     "metadata": {},
     "output_type": "execute_result"
    },
    {
     "data": {
      "image/png": "[encoded data removed]",
      "text/plain": [
       "<Figure size 432x288 with 1 Axes>"
      ]
     },
     "metadata": {},
     "output_type": "display_data"
    }
   ],
   "source": [
    "gplot = sp.stats.norm.pdf(xplot,loc=mu,scale=afish)\n",
    "\n",
    "edges = np.linspace(-10,10,50)\n",
    "a,b,c = plt.hist(samplesfish,bins=edges,normed=True)\n",
    "plt.plot(xplot,target,lw=2,color='r')\n",
    "plt.plot(xplot,gplot,lw=2,color='g')"
   ]
  },
  {
   "cell_type": "markdown",
   "metadata": {},
   "source": [
    "Finally, we compare this distribution (blue again) to that recovered using $\\alpha = 1.0$ (green - transparent). As expected, they aren't very different - but we can see that the Fisher-optimized distribution is a closer match to the target, especially around the peak."
   ]
  },
  {
   "cell_type": "code",
   "execution_count": 33,
   "metadata": {
    "collapsed": false
   },
   "outputs": [
    {
     "data": {
      "text/plain": [
       "[<matplotlib.lines.Line2D at 0x117bd3250>]"
      ]
     },
     "execution_count": 33,
     "metadata": {},
     "output_type": "execute_result"
    },
    {
     "data": {
      "image/png": "[encoded data removed]",
      "text/plain": [
       "<Figure size 432x288 with 1 Axes>"
      ]
     },
     "metadata": {},
     "output_type": "display_data"
    }
   ],
   "source": [
    "edges = np.linspace(-10,10,50)\n",
    "a,b,c = plt.hist(samplesfish,bins=edges,normed=True)\n",
    "d,e,f = plt.hist(samples1,bins=edges,normed=True,alpha=0.3)\n",
    "plt.plot(xplot,target,lw=2,color='r')"
   ]
  },
  {
   "cell_type": "markdown",
   "metadata": {},
   "source": [
    "This notebook is a simple way to get an intuitive feeling for what MCMC is actually doing - and what constitutes a 'good sampler.' Using the Fisher matrix as an approximation to the likelihood is one way to design a sample distribution. There are of course many more. These include:\n",
    "* calculating the covariance matrix directly from samples\n",
    "* proposing from a bunch of Gaussians with different width\n",
    "* using higher-order derivatives to approximate curvature in the likelihood surface (Langevin jumps)\n",
    "* treating the likelihood as a potential energy surface and using Hamilton's equations to calculate the 'equation of motion' in that space (Hamiltonian MCMC)\n",
    "* generating vectors in parameter space from combinations of points in the chain and jumping along these vectors (Differential Evolution)\n",
    "* probably a whole bunch more!\n",
    "\n",
    "In some situations, like when you know you have a multi-modal posterior distribution, it may be useful or even necessary to create custom jump proposals that move between the different modes. The main point of this post is not to be a comprehensive list of ways to design proposals, but to point out that the basic mechanics of MCMC are really quite simple, and that there is nothing magic about it! As long as the set of jump proposals you are using is Markovian and gives access to the full parameter space, the chain will eventually conve"
   ]
  },
  {
   "cell_type": "code",
   "execution_count": null,
   "metadata": {
    "collapsed": true
   },
   "outputs": [],
   "source": []
  }
 ],
 "metadata": {
  "kernelspec": {
   "display_name": "Python 2",
   "language": "python",
   "name": "python2"
  },
  "language_info": {
   "codemirror_mode": {
    "name": "ipython",
    "version": 2
   },
   "file_extension": ".py",
   "mimetype": "text/x-python",
   "name": "python",
   "nbconvert_exporter": "python",
   "pygments_lexer": "ipython2",
   "version": "2.7.12"
  }
 },
 "nbformat": 4,
 "nbformat_minor": 2
}
